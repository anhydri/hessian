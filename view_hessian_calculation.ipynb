{
 "cells": [
  {
   "cell_type": "markdown",
   "metadata": {},
   "source": [
    "# Viewing Vibrations from Hessian Calculation"
   ]
  },
  {
   "cell_type": "markdown",
   "metadata": {},
   "source": [
    "## Name of the output file"
   ]
  },
  {
   "cell_type": "code",
   "execution_count": null,
   "metadata": {},
   "outputs": [],
   "source": [
    "input_file = \"hessian.log\""
   ]
  },
  {
   "cell_type": "markdown",
   "metadata": {},
   "source": [
    "## Import python packages"
   ]
  },
  {
   "cell_type": "code",
   "execution_count": null,
   "metadata": {},
   "outputs": [],
   "source": [
    "import numpy as np\n",
    "import pandas as pd\n",
    "import plotly\n",
    "import plotly.plotly as py\n",
    "import plotly.graph_objs as go\n",
    "from plotly.offline import init_notebook_mode, iplot\n",
    "# let plotly offine\n",
    "plotly.offline.init_notebook_mode(connected=True)\n",
    "from ipywidgets import interact, interactive, fixed, interact_manual\n",
    "import ipywidgets as widgets\n",
    "import py3Dmol\n",
    "import glob, os, itertools, re"
   ]
  },
  {
   "cell_type": "markdown",
   "metadata": {},
   "source": [
    "## Define functions"
   ]
  },
  {
   "cell_type": "markdown",
   "metadata": {},
   "source": [
    "### Load user-defined function to pull out the vibration mode information"
   ]
  },
  {
   "cell_type": "code",
   "execution_count": null,
   "metadata": {},
   "outputs": [],
   "source": [
    "def vib_mode_info(input_file):\n",
    "    # Define variables used throughout the function\n",
    "    nu_atom = 1\n",
    "    nu_vib = 1\n",
    "    list_dict_vib = []\n",
    "\n",
    "    # Define temporary file nams\n",
    "    vib_coord_file = \"vib_coord.txt\"\n",
    "    vib_coord_file_tmp = \"vib_coord.txt.tmp\"\n",
    "    vib_list_file = \"vib_list.txt\"\n",
    "    nu_atom_file = \"nu_atom.txt\"\n",
    "    nu_vib_file = \"nu_vib.txt\"\n",
    "\n",
    "    command_1 = \"grep 'Number of atoms:' \" + input_file + \" > \" + nu_atom_file\n",
    "    command_2 = \"grep 'VIBRATIONAL MODES ARE USED IN THERMOCHEMISTRY' \" + input_file + \" > \" + nu_vib_file\n",
    "    command_3 = \"sed -n '/MODE FREQ(CM\\*\\*-1)  SYMMETRY  RED. MASS  IR INTENS./,/THERMOCHEMISTRY/p' \" + input_file + \" > \" + vib_list_file\n",
    "    command_4 = \"sed -n '/ANALYZING SYMMETRY OF NORMAL MODES/,/REFERENCE ON SAYVETZ CONDITIONS/p' \" + input_file + \" > \" + vib_coord_file_tmp\n",
    "    command_5 = \"sed -n '/1           2           3           4           5/,/REFERENCE ON SAYVETZ CONDITIONS/p' \" + vib_coord_file_tmp + \" > \" + vib_coord_file\n",
    "    \n",
    "    os.system(command_1)\n",
    "    os.system(command_2)\n",
    "    os.system(command_3)\n",
    "    os.system(command_4)\n",
    "    os.system(command_5)\n",
    "\n",
    "    with open(nu_atom_file, \"r\") as f:\n",
    "        list_txt_nu_atom = f.read().split()\n",
    "        nu_atom = int(list_txt_nu_atom[-1])\n",
    "\n",
    "    with open(nu_vib_file, \"r\") as f:\n",
    "        list_txt_nu_vib_1 = f.read().split(\"-\")\n",
    "        list_txt_nu_vib_2 = list_txt_nu_vib_1[-1].split()\n",
    "        nu_vib = int(list_txt_nu_vib_2[0])\n",
    "\n",
    "    with open(vib_list_file, \"r\") as f:\n",
    "        for line in itertools.islice(f, 1, nu_vib + 1):\n",
    "            \n",
    "            list_line = line.split()\n",
    "            \n",
    "            dict_vib = {}\n",
    "            dict_vib[\"mode\"] = int(list_line[0])\n",
    "            dict_vib[\"frequency\"] = float(list_line[1])\n",
    "            dict_vib[\"symmetry\"] = list_line[2]\n",
    "            dict_vib[\"red_mass\"] = float(list_line[3])\n",
    "            dict_vib[\"ir_intens\"] = float(list_line[4])\n",
    "\n",
    "            list_dict_vib.append(dict_vib)\n",
    "\n",
    "    # All information for a vibration is saved in the variable list_dict_vib.\n",
    "\n",
    "    nu_coord_line_per_geom = nu_atom * 3\n",
    "\n",
    "    with open(vib_coord_file, \"r\") as f:\n",
    "        list_line_1 = f.read().splitlines()\n",
    "        list_line_2 = list_line_1[:-2]\n",
    "        list_line_2 = list(filter(None, list_line_2))     # complete list without empty lines\n",
    "\n",
    "        vib_coord_len = len(list_line_2)\n",
    "        nu_line_per_block = nu_coord_line_per_geom + 5 + 8    \n",
    "        nu_block = int(vib_coord_len/nu_line_per_block)   \n",
    "\n",
    "        list_dict_geom = []\n",
    "\n",
    "        for i in range(0, nu_block):   # loop over 23 blocks\n",
    "            ini = i * nu_line_per_block\n",
    "            end = (i + 1) * nu_line_per_block\n",
    "            list_line_block = list_line_2[ini:end]    # a blok of frequencies and coordinates\n",
    "            list_vib_mode = list_line_block[0].split()\n",
    "            nu_freq = len(list_vib_mode)    # number of vibration modes per block, corresponding to number of geometries\n",
    "            list_coord_block = list_line_block[5:5 + nu_coord_line_per_geom]\n",
    "\n",
    "            list_line_comp_block =[]\n",
    "\n",
    "            for line in list_coord_block:\n",
    "                line_comp = line.split()\n",
    "                list_line_comp_block.append(line_comp)\n",
    "            \n",
    "            # loop over the frequency number in a block\n",
    "            for k in range(0, nu_freq):\n",
    "                dict_mode_geom = {}\n",
    "                dict_mode_geom[\"mode\"] = int(list_vib_mode[k])\n",
    "\n",
    "                freq_ind = k - nu_freq\n",
    "\n",
    "                list_geom = []    # list of atom coordinates of one structure\n",
    "\n",
    "                # loop over each atom in a column (each structure/column)\n",
    "                for j in range(0, nu_atom):\n",
    "                    ind = 3 * j\n",
    "                    x_ind = ind + 0\n",
    "                    y_ind = ind + 1\n",
    "                    z_ind = ind + 2\n",
    "\n",
    "                    dict_atom_coord = {}\n",
    "                    dict_atom_coord[\"atom\"] = list_line_comp_block[x_ind][1]\n",
    "                    dict_atom_coord[\"dx\"] = float(list_line_comp_block[x_ind][freq_ind])\n",
    "                    dict_atom_coord[\"dy\"] = float(list_line_comp_block[y_ind][freq_ind])\n",
    "                    dict_atom_coord[\"dz\"] = float(list_line_comp_block[z_ind][freq_ind])\n",
    "                    list_geom.append(dict_atom_coord)\n",
    "                \n",
    "                dict_mode_geom[\"geometry\"] = list_geom\n",
    "            \n",
    "                list_dict_geom.append(dict_mode_geom)\n",
    "                \n",
    "    # At this step, we've gotten the geometry for each frequency mode. \n",
    "    # All is save in the variable list_dict_geom.\n",
    "    # Also, the vibration mode information is saved in the varible list_dict_vib.\n",
    "\n",
    "    #command_6 = \"rm -f vib_coord.txt.tmp vib_coord.txt vib_list.txt nu_atom.txt nu_vib.txt\"\n",
    "    #os.system(command_6)\n",
    "\n",
    "    # Merge two lists\n",
    "    for i in range(len(list_dict_vib)):\n",
    "        list_dict_vib[i][\"geometry\"] = list_dict_geom[i].get(\"geometry\")\n",
    "\n",
    "    return(list_dict_vib)"
   ]
  },
  {
   "cell_type": "code",
   "execution_count": null,
   "metadata": {},
   "outputs": [],
   "source": [
    "def vibrate(mode):\n",
    "    xyzview = py3Dmol.view(width=500,height=500)\n",
    "    xyzview.addModel(xyz_vib_list[mode - 1],'xyz',{'vibrate': {'frames':10,'amplitude':5}})\n",
    "    xyzview.setStyle({'stick':{}})\n",
    "    xyzview.setBackgroundColor('white')\n",
    "    xyzview.animate({'loop': 'BackandForth'})\n",
    "    xyzview.zoomTo()\n",
    "    xyzview.show()"
   ]
  },
  {
   "cell_type": "markdown",
   "metadata": {},
   "source": [
    "## Read the initial coordinates into a list"
   ]
  },
  {
   "cell_type": "raw",
   "metadata": {},
   "source": [
    "# First method\n",
    "# Read initial coordinate from a Molden xyz file\n",
    "\n",
    "init_xyz_name = input_file[:-4] + \".xyz\"\n",
    "init_coord_file = glob.glob(init_xyz_name)\n",
    "\n",
    "list_dict_orig_coord = []\n",
    "\n",
    "with open(init_coord_file, \"r\") as f:\n",
    "    list_coord = f.read().splitlines()\n",
    "    list_coord = list_coord[2:]\n",
    "    \n",
    "    for i in list_coord:\n",
    "        k = i.split()\n",
    "        dict_atom_coord = {}    \n",
    "        dict_atom_coord[\"atom\"] = k[0]\n",
    "        dict_atom_coord[\"x\"] = float(k[1])\n",
    "        dict_atom_coord[\"y\"] = float(k[2])\n",
    "        dict_atom_coord[\"z\"] = float(k[3])\n",
    "    \n",
    "        list_dict_orig_coord.append(dict_atom_coord)"
   ]
  },
  {
   "cell_type": "raw",
   "metadata": {},
   "source": [
    "# Second method\n",
    "# Read initial coordinate from a csv file\n",
    "\n",
    "list_dict_orig_coord = []\n",
    "\n",
    "with open(\"init_coord.csv\", \"r\") as f:\n",
    "    list_coord = f.read().splitlines()\n",
    "    \n",
    "    for i in list_coord:\n",
    "        k = i.split(\",\")\n",
    "        dict_atom_coord = {}    \n",
    "        dict_atom_coord[\"atom\"] = k[0]\n",
    "        dict_atom_coord[\"x\"] = float(k[1])\n",
    "        dict_atom_coord[\"y\"] = float(k[2])\n",
    "        dict_atom_coord[\"z\"] = float(k[3])\n",
    "    \n",
    "        list_dict_orig_coord.append(dict_atom_coord)"
   ]
  },
  {
   "cell_type": "code",
   "execution_count": null,
   "metadata": {},
   "outputs": [],
   "source": [
    "# Third method\n",
    "# Read initial coordinate from a Gamess input file\n",
    "\n",
    "input_name = input_file[:-4] + \".inp\"\n",
    "\n",
    "atom_pattern = \"^\\s+[A-Z][a-z]?\"\n",
    "nu_pattern = \"\\s+-?[0-9]{1,3}\\.[0-9]+\"\n",
    "coord_srch_pattern = atom_pattern + 4*nu_pattern + \"\\s*$\"\n",
    "\n",
    "list_dict_orig_coord = []\n",
    "\n",
    "with open(input_name, \"r\") as f:\n",
    "    list_coord = f.read().splitlines()\n",
    "    \n",
    "    for i in list_coord:\n",
    "        if re.search(coord_srch_pattern, i):\n",
    "            k = i.split()\n",
    "            dict_atom_coord = {}    \n",
    "            dict_atom_coord[\"atom\"] = k[0]\n",
    "            dict_atom_coord[\"x\"] = float(k[2])\n",
    "            dict_atom_coord[\"y\"] = float(k[3])\n",
    "            dict_atom_coord[\"z\"] = float(k[4])\n",
    "            \n",
    "            list_dict_orig_coord.append(dict_atom_coord)"
   ]
  },
  {
   "cell_type": "markdown",
   "metadata": {},
   "source": [
    "## Read the log file"
   ]
  },
  {
   "cell_type": "code",
   "execution_count": null,
   "metadata": {},
   "outputs": [],
   "source": [
    "list_dict_vib = vib_mode_info(input_file)"
   ]
  },
  {
   "cell_type": "markdown",
   "metadata": {},
   "source": [
    "### Create new list for each vibration mode with x, y, z, dx, dy, dz"
   ]
  },
  {
   "cell_type": "code",
   "execution_count": null,
   "metadata": {},
   "outputs": [],
   "source": [
    "# Loop through each mode/each geometry in the hessian calculation\n",
    "# Add dx, dy, dz to the \"geometry\" in the dictionary of vibration information\n",
    "\n",
    "for i in list_dict_vib:\n",
    "    each_vib_geom = i.get(\"geometry\")\n",
    "    \n",
    "    for k in range(len(each_vib_geom)):\n",
    "        each_vib_geom[k][\"x\"] = list_dict_orig_coord[k].get(\"x\")\n",
    "        each_vib_geom[k][\"y\"] = list_dict_orig_coord[k].get(\"y\")\n",
    "        each_vib_geom[k][\"z\"] = list_dict_orig_coord[k].get(\"z\")"
   ]
  },
  {
   "cell_type": "raw",
   "metadata": {},
   "source": [
    "list_xyz_name = []\n",
    "\n",
    "for i in list_dict_vib:\n",
    "    each_vib_geom = i.get(\"geometry\")\n",
    "    \n",
    "    xyz_file = \"hess_vib_mode_\" + str(i.get(\"mode\")) + \".xyz\"\n",
    "    list_xyz_name.append(xyz_file)\n",
    "    \n",
    "    with open(xyz_file, \"w\") as f:\n",
    "        f.write('{}\\n\\n'.format(len(each_vib_geom)))\n",
    "        \n",
    "        for k in each_vib_geom:\n",
    "            f.write('{:<4s}{:>15.6f}{:>15.6f}{:>15.6f}{:>15.6f}{:>15.6f}{:>15.6f}\\n'.format(k.get(\"atom\"), k.get(\"x\"), k.get(\"y\"), k.get(\"z\"), k.get(\"dx\"), k.get(\"dy\"), k.get(\"dz\")))\n",
    "            "
   ]
  },
  {
   "cell_type": "code",
   "execution_count": null,
   "metadata": {},
   "outputs": [],
   "source": [
    "xyz_vib_list = []\n",
    "\n",
    "for i in list_dict_vib:\n",
    "    each_vib_geom = i.get(\"geometry\")\n",
    "    s = str()\n",
    "    s = '{}\\n\\n'.format(len(each_vib_geom))\n",
    "    \n",
    "    for k in each_vib_geom:\n",
    "        s = s + '{:<4s}{:>15.6f}{:>15.6f}{:>15.6f}{:>15.6f}{:>15.6f}{:>15.6f}\\n'\\\n",
    "        .format(k.get(\"atom\"), k.get(\"x\"), k.get(\"y\"), k.get(\"z\"), k.get(\"dx\"), k.get(\"dy\"), k.get(\"dz\"))\n",
    "    \n",
    "    xyz_vib_list.append(s)"
   ]
  },
  {
   "cell_type": "markdown",
   "metadata": {},
   "source": [
    "## Now ... the plot: Intensity vs. Wave number"
   ]
  },
  {
   "cell_type": "code",
   "execution_count": null,
   "metadata": {
    "scrolled": false
   },
   "outputs": [],
   "source": [
    "x = []\n",
    "y = []\n",
    "mode = []\n",
    "\n",
    "for i in range(0, len(list_dict_vib)):\n",
    "    x.append(list_dict_vib[i].get(\"frequency\"))\n",
    "    y.append(list_dict_vib[i].get(\"ir_intens\"))\n",
    "    mode.append(\"mode: \" + str(i + 1))"
   ]
  },
  {
   "cell_type": "code",
   "execution_count": null,
   "metadata": {},
   "outputs": [],
   "source": [
    "trace = go.Scatter(\n",
    "    x = np.array(x),\n",
    "    y = np.array(y),\n",
    "    mode = \"lines+markers\",\n",
    "    line = dict(color = \"red\"),\n",
    "    text = mode\n",
    ")\n",
    "\n",
    "data = [trace]\n",
    "iplot(data)"
   ]
  },
  {
   "cell_type": "markdown",
   "metadata": {},
   "source": [
    "## This is how the atoms dance ~-~ ^.^ ~-~"
   ]
  },
  {
   "cell_type": "code",
   "execution_count": null,
   "metadata": {},
   "outputs": [],
   "source": [
    "interact(vibrate, mode = widgets.IntSlider(min=1,max=114,step=1,value=1))"
   ]
  }
 ],
 "metadata": {
  "kernelspec": {
   "display_name": "Python 3",
   "language": "python",
   "name": "python3"
  },
  "language_info": {
   "codemirror_mode": {
    "name": "ipython",
    "version": 3
   },
   "file_extension": ".py",
   "mimetype": "text/x-python",
   "name": "python",
   "nbconvert_exporter": "python",
   "pygments_lexer": "ipython3",
   "version": "3.6.5"
  }
 },
 "nbformat": 4,
 "nbformat_minor": 2
}
