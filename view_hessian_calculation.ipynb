{
 "cells": [
  {
   "cell_type": "markdown",
   "metadata": {},
   "source": [
    "# Viewing Vibrations from Hessian Calculation"
   ]
  },
  {
   "cell_type": "markdown",
   "metadata": {},
   "source": [
    "## Name of the output file"
   ]
  },
  {
   "cell_type": "code",
   "execution_count": 1,
   "metadata": {},
   "outputs": [],
   "source": [
    "input_file = \"eaf-a1.log\""
   ]
  },
  {
   "cell_type": "markdown",
   "metadata": {},
   "source": [
    "## Import python packages"
   ]
  },
  {
   "cell_type": "code",
   "execution_count": 2,
   "metadata": {},
   "outputs": [
    {
     "data": {
      "text/html": [
       "<script>requirejs.config({paths: { 'plotly': ['https://cdn.plot.ly/plotly-latest.min']},});if(!window.Plotly) {{require(['plotly'],function(plotly) {window.Plotly=plotly;});}}</script>"
      ],
      "text/vnd.plotly.v1+html": [
       "<script>requirejs.config({paths: { 'plotly': ['https://cdn.plot.ly/plotly-latest.min']},});if(!window.Plotly) {{require(['plotly'],function(plotly) {window.Plotly=plotly;});}}</script>"
      ]
     },
     "metadata": {},
     "output_type": "display_data"
    }
   ],
   "source": [
    "import numpy as np\n",
    "import pandas as pd\n",
    "import plotly\n",
    "import plotly.plotly as py\n",
    "import plotly.graph_objs as go\n",
    "from plotly.offline import init_notebook_mode, iplot\n",
    "# let plotly offine\n",
    "plotly.offline.init_notebook_mode(connected=True)\n",
    "from ipywidgets import interact, interactive, fixed, interact_manual\n",
    "import ipywidgets as widgets\n",
    "import py3Dmol\n",
    "import glob, os, itertools, re"
   ]
  },
  {
   "cell_type": "markdown",
   "metadata": {},
   "source": [
    "## Define functions"
   ]
  },
  {
   "cell_type": "markdown",
   "metadata": {},
   "source": [
    "### Load user-defined function to pull out the vibration mode information"
   ]
  },
  {
   "cell_type": "code",
   "execution_count": 3,
   "metadata": {},
   "outputs": [],
   "source": [
    "def vib_mode_info(input_file):\n",
    "    # Define variables used throughout the function\n",
    "    nu_atom = 1\n",
    "    nu_vib = 1\n",
    "    list_dict_vib = []\n",
    "\n",
    "    # Define temporary file nams\n",
    "    vib_coord_file = \"vib_coord.txt\"\n",
    "    vib_list_file = \"vib_list.txt\"\n",
    "    nu_atom_file = \"nu_atom.txt\"\n",
    "    nu_vib_file = \"nu_vib.txt\"\n",
    "\n",
    "    command_1 = \"grep 'Number of atoms:' \" + input_file + \" > \" + nu_atom_file\n",
    "    command_2 = \"grep 'VIBRATIONAL MODES ARE USED IN THERMOCHEMISTRY' \" + input_file + \" > \" + nu_vib_file\n",
    "    command_3 = \"sed -n '/MODE FREQ(CM\\*\\*-1)  SYMMETRY  RED. MASS  IR INTENS./,/THERMOCHEMISTRY/p' \" + input_file + \" > \" + vib_list_file\n",
    "    command_4 = \"sed -n '/ANALYZING SYMMETRY OF NORMAL MODES/,/REFERENCE ON SAYVETZ CONDITIONS/p' \" + input_file + \" > \" + vib_coord_file\n",
    "\n",
    "    os.system(command_1)\n",
    "    os.system(command_2)\n",
    "    os.system(command_3)\n",
    "    os.system(command_4)\n",
    "\n",
    "    with open(nu_atom_file, \"r\") as f:\n",
    "        list_txt_nu_atom = f.read().split()\n",
    "        nu_atom = int(list_txt_nu_atom[-1])\n",
    "\n",
    "    with open(nu_vib_file, \"r\") as f:\n",
    "        list_txt_nu_vib_1 = f.read().split(\"-\")\n",
    "        list_txt_nu_vib_2 = list_txt_nu_vib_1[-1].split()\n",
    "        nu_vib = int(list_txt_nu_vib_2[0])\n",
    "\n",
    "    with open(vib_list_file, \"r\") as f:\n",
    "        for line in itertools.islice(f, 1, nu_vib + 1):\n",
    "            \n",
    "            list_line = line.split()\n",
    "            \n",
    "            dict_vib = {}\n",
    "            dict_vib[\"mode\"] = int(list_line[0])\n",
    "            dict_vib[\"frequency\"] = float(list_line[1])\n",
    "            dict_vib[\"symmetry\"] = list_line[2]\n",
    "            dict_vib[\"red_mass\"] = float(list_line[3])\n",
    "            dict_vib[\"ir_intens\"] = float(list_line[4])\n",
    "\n",
    "            list_dict_vib.append(dict_vib)\n",
    "\n",
    "    # All information for a vibration is saved in the variable list_dict_vib.\n",
    " \n",
    "    nu_coord_line_per_geom = nu_atom * 3\n",
    "\n",
    "    with open(vib_coord_file, \"r\") as f:\n",
    "        list_line_1 = f.read().splitlines()\n",
    "        list_line_2 = list_line_1[5:-2]\n",
    "        \n",
    "        list_line_2 = list(filter(None, list_line_2))     # complete list without empty lines\n",
    "        vib_coord_len = len(list_line_2)\n",
    "        nu_line_per_block = nu_coord_line_per_geom + 5 + 8    \n",
    "        nu_block = int(vib_coord_len/nu_line_per_block) \n",
    "\n",
    "        list_dict_geom = []\n",
    "\n",
    "        for i in range(0, nu_block):\n",
    "            ini = i * nu_line_per_block\n",
    "            end = (i + 1) * nu_line_per_block\n",
    "            list_line_block = list_line_2[ini:end]    # a blok of frequencies and coordinates\n",
    "            list_vib_mode = list_line_block[0].split()\n",
    "            nu_freq = len(list_vib_mode)    # number of vibration modes per block, corresponding to number of geometries\n",
    "            list_coord_block = list_line_block[5:5 + nu_coord_line_per_geom]\n",
    "\n",
    "            list_line_comp_block =[]\n",
    "\n",
    "            for line in list_coord_block:\n",
    "                line_comp = line.split()\n",
    "                list_line_comp_block.append(line_comp)\n",
    "            \n",
    "\n",
    "            # loop over the frequency number in a block\n",
    "            for k in range(0, nu_freq):\n",
    "                dict_mode_geom = {}\n",
    "                dict_mode_geom[\"mode\"] = int(list_vib_mode[k])\n",
    "\n",
    "                freq_ind = k - nu_freq\n",
    "\n",
    "                list_geom = []    # list of atom coordinates of one structure\n",
    "\n",
    "                # loop over each atom in a column (each structure/column)\n",
    "                for j in range(0, nu_atom):\n",
    "                    ind = 3 * j\n",
    "                    x_ind = ind + 0\n",
    "                    y_ind = ind + 1\n",
    "                    z_ind = ind + 2\n",
    "\n",
    "                    dict_atom_coord = {}\n",
    "                    dict_atom_coord[\"atom\"] = list_line_comp_block[x_ind][1]\n",
    "                    dict_atom_coord[\"dx\"] = float(list_line_comp_block[x_ind][freq_ind])\n",
    "                    dict_atom_coord[\"dy\"] = float(list_line_comp_block[y_ind][freq_ind])\n",
    "                    dict_atom_coord[\"dz\"] = float(list_line_comp_block[z_ind][freq_ind])\n",
    "                    list_geom.append(dict_atom_coord)\n",
    "                \n",
    "                dict_mode_geom[\"geometry\"] = list_geom\n",
    "            \n",
    "                list_dict_geom.append(dict_mode_geom)\n",
    "                \n",
    "    # At this step, we've gotten the geometry for each frequency mode. \n",
    "    # All is save in the variable list_dict_geom.\n",
    "    # Also, the vibration mode information is saved in the varible list_dict_vib.\n",
    "\n",
    "    # command_5 = \"rm -f vib_coord.txt vib_list.txt nu_atom.txt nu_vib.txt\"\n",
    "    # os.system(command_5)\n",
    "\n",
    "    # Merge two lists\n",
    "    for i in range(len(list_dict_vib)):\n",
    "        list_dict_vib[i][\"geometry\"] = list_dict_geom[i].get(\"geometry\")\n",
    "    \n",
    "    return(list_dict_vib)"
   ]
  },
  {
   "cell_type": "code",
   "execution_count": 4,
   "metadata": {},
   "outputs": [],
   "source": [
    "def vibrate(mode):\n",
    "    xyzview = py3Dmol.view(width=500,height=500)\n",
    "    xyzview.addModel(xyz_vib_list[mode - 1],'xyz',{'vibrate': {'frames':10,'amplitude':5}})\n",
    "    xyzview.setStyle({'stick':{}})\n",
    "    xyzview.setBackgroundColor('white')\n",
    "    xyzview.animate({'loop': 'BackandForth'})\n",
    "    xyzview.zoomTo()\n",
    "    xyzview.show()"
   ]
  },
  {
   "cell_type": "markdown",
   "metadata": {},
   "source": [
    "## Read the initial coordinates into a list"
   ]
  },
  {
   "cell_type": "raw",
   "metadata": {},
   "source": [
    "# First method\n",
    "# Read initial coordinate from a Molden xyz file\n",
    "\n",
    "init_xyz_name = input_file[:-4] + \".xyz\"\n",
    "init_coord_file = glob.glob(init_xyz_name)\n",
    "\n",
    "list_dict_orig_coord = []\n",
    "\n",
    "with open(init_coord_file, \"r\") as f:\n",
    "    list_coord = f.read().splitlines()\n",
    "    list_coord = list_coord[2:]\n",
    "    \n",
    "    for i in list_coord:\n",
    "        k = i.split()\n",
    "        dict_atom_coord = {}    \n",
    "        dict_atom_coord[\"atom\"] = k[0]\n",
    "        dict_atom_coord[\"x\"] = float(k[1])\n",
    "        dict_atom_coord[\"y\"] = float(k[2])\n",
    "        dict_atom_coord[\"z\"] = float(k[3])\n",
    "    \n",
    "        list_dict_orig_coord.append(dict_atom_coord)"
   ]
  },
  {
   "cell_type": "raw",
   "metadata": {},
   "source": [
    "# Second method\n",
    "# Read initial coordinate from a csv file\n",
    "\n",
    "list_dict_orig_coord = []\n",
    "\n",
    "with open(\"init_coord.csv\", \"r\") as f:\n",
    "    list_coord = f.read().splitlines()\n",
    "    \n",
    "    for i in list_coord:\n",
    "        k = i.split(\",\")\n",
    "        dict_atom_coord = {}    \n",
    "        dict_atom_coord[\"atom\"] = k[0]\n",
    "        dict_atom_coord[\"x\"] = float(k[1])\n",
    "        dict_atom_coord[\"y\"] = float(k[2])\n",
    "        dict_atom_coord[\"z\"] = float(k[3])\n",
    "    \n",
    "        list_dict_orig_coord.append(dict_atom_coord)"
   ]
  },
  {
   "cell_type": "code",
   "execution_count": 5,
   "metadata": {},
   "outputs": [],
   "source": [
    "# Third method\n",
    "# Read initial coordinate from a Gamess input file\n",
    "\n",
    "input_name = input_file[:-4] + \".inp\"\n",
    "#init_coord_file = glob.glob(input_name)\n",
    "\n",
    "atom_pattern = \"^\\s+[A-Z][a-z]?\"\n",
    "nu_pattern = \"\\s+-?[0-9]{1,3}\\.[0-9]+\"\n",
    "coord_srch_pattern = atom_pattern + 4*nu_pattern + \"\\s*$\"\n",
    "\n",
    "list_dict_orig_coord = []\n",
    "\n",
    "with open(input_name, \"r\") as f:\n",
    "    list_coord = f.read().splitlines()\n",
    "    \n",
    "    for i in list_coord:\n",
    "        if re.search(coord_srch_pattern, i):\n",
    "            k = i.split()\n",
    "            dict_atom_coord = {}    \n",
    "            dict_atom_coord[\"atom\"] = k[0]\n",
    "            dict_atom_coord[\"x\"] = float(k[2])\n",
    "            dict_atom_coord[\"y\"] = float(k[3])\n",
    "            dict_atom_coord[\"z\"] = float(k[4])\n",
    "            \n",
    "            list_dict_orig_coord.append(dict_atom_coord)"
   ]
  },
  {
   "cell_type": "markdown",
   "metadata": {},
   "source": [
    "## Read the log file"
   ]
  },
  {
   "cell_type": "code",
   "execution_count": 6,
   "metadata": {},
   "outputs": [],
   "source": [
    "list_dict_vib = vib_mode_info(input_file)"
   ]
  },
  {
   "cell_type": "markdown",
   "metadata": {},
   "source": [
    "### Create new list for each vibration mode with x, y, z, dx, dy, dz"
   ]
  },
  {
   "cell_type": "code",
   "execution_count": 7,
   "metadata": {},
   "outputs": [],
   "source": [
    "# Loop through each mode/each geometry in the hessian calculation\n",
    "# Add dx, dy, dz to the \"geometry\" in the dictionary of vibration information\n",
    "\n",
    "for i in list_dict_vib:\n",
    "    each_vib_geom = i.get(\"geometry\")\n",
    "    \n",
    "    for k in range(len(each_vib_geom)):\n",
    "        each_vib_geom[k][\"x\"] = list_dict_orig_coord[k].get(\"x\")\n",
    "        each_vib_geom[k][\"y\"] = list_dict_orig_coord[k].get(\"y\")\n",
    "        each_vib_geom[k][\"z\"] = list_dict_orig_coord[k].get(\"z\")"
   ]
  },
  {
   "cell_type": "code",
   "execution_count": 8,
   "metadata": {},
   "outputs": [],
   "source": [
    "list_xyz_name = []\n",
    "\n",
    "for i in list_dict_vib:\n",
    "    each_vib_geom = i.get(\"geometry\")\n",
    "    \n",
    "    xyz_file = \"hess_vib_mode_\" + str(i.get(\"mode\")) + \".xyz\"\n",
    "    list_xyz_name.append(xyz_file)\n",
    "    \n",
    "    with open(xyz_file, \"w\") as f:\n",
    "        f.write('{}\\n\\n'.format(len(each_vib_geom)))\n",
    "        \n",
    "        for k in each_vib_geom:\n",
    "            f.write('{:<4s}{:>15.6f}{:>15.6f}{:>15.6f}{:>15.6f}{:>15.6f}{:>15.6f}\\n'.format(k.get(\"atom\"), k.get(\"x\"), k.get(\"y\"), k.get(\"z\"), k.get(\"dx\"), k.get(\"dy\"), k.get(\"dz\")))\n",
    "            "
   ]
  },
  {
   "cell_type": "code",
   "execution_count": 9,
   "metadata": {},
   "outputs": [],
   "source": [
    "xyz_vib_list = []\n",
    "\n",
    "for i in list_dict_vib:\n",
    "    each_vib_geom = i.get(\"geometry\")\n",
    "    s = str()\n",
    "    s = '{}\\n\\n'.format(len(each_vib_geom))\n",
    "    \n",
    "    for k in each_vib_geom:\n",
    "        s = s + '{:<4s}{:>15.6f}{:>15.6f}{:>15.6f}{:>15.6f}{:>15.6f}{:>15.6f}\\n'\\\n",
    "        .format(k.get(\"atom\"), k.get(\"x\"), k.get(\"y\"), k.get(\"z\"), k.get(\"dx\"), k.get(\"dy\"), k.get(\"dz\"))\n",
    "\n",
    "    xyz_vib_list.append(s)"
   ]
  },
  {
   "cell_type": "markdown",
   "metadata": {},
   "source": [
    "## Now ... the plot: Intensity vs. Wave number"
   ]
  },
  {
   "cell_type": "code",
   "execution_count": 10,
   "metadata": {
    "scrolled": false
   },
   "outputs": [],
   "source": [
    "x = []\n",
    "y = []\n",
    "mode = []\n",
    "\n",
    "for i in range(0, len(list_dict_vib)):\n",
    "    x.append(list_dict_vib[i].get(\"frequency\"))\n",
    "    y.append(list_dict_vib[i].get(\"ir_intens\"))\n",
    "    mode.append(\"mode: \" + str(i + 1))"
   ]
  },
  {
   "cell_type": "code",
   "execution_count": 11,
   "metadata": {},
   "outputs": [
    {
     "data": {
      "application/vnd.plotly.v1+json": {
       "data": [
        {
         "line": {
          "color": "red"
         },
         "mode": "lines+markers",
         "text": [
          "mode: 1",
          "mode: 2",
          "mode: 3",
          "mode: 4",
          "mode: 5",
          "mode: 6",
          "mode: 7",
          "mode: 8",
          "mode: 9",
          "mode: 10",
          "mode: 11",
          "mode: 12",
          "mode: 13",
          "mode: 14",
          "mode: 15",
          "mode: 16",
          "mode: 17",
          "mode: 18",
          "mode: 19",
          "mode: 20",
          "mode: 21",
          "mode: 22",
          "mode: 23",
          "mode: 24",
          "mode: 25",
          "mode: 26",
          "mode: 27",
          "mode: 28",
          "mode: 29",
          "mode: 30",
          "mode: 31",
          "mode: 32",
          "mode: 33",
          "mode: 34",
          "mode: 35",
          "mode: 36",
          "mode: 37",
          "mode: 38",
          "mode: 39",
          "mode: 40",
          "mode: 41",
          "mode: 42",
          "mode: 43",
          "mode: 44",
          "mode: 45",
          "mode: 46",
          "mode: 47",
          "mode: 48",
          "mode: 49",
          "mode: 50",
          "mode: 51",
          "mode: 52",
          "mode: 53",
          "mode: 54",
          "mode: 55",
          "mode: 56",
          "mode: 57",
          "mode: 58",
          "mode: 59",
          "mode: 60",
          "mode: 61",
          "mode: 62",
          "mode: 63",
          "mode: 64",
          "mode: 65",
          "mode: 66",
          "mode: 67",
          "mode: 68",
          "mode: 69",
          "mode: 70",
          "mode: 71",
          "mode: 72",
          "mode: 73",
          "mode: 74",
          "mode: 75",
          "mode: 76",
          "mode: 77",
          "mode: 78",
          "mode: 79",
          "mode: 80",
          "mode: 81",
          "mode: 82",
          "mode: 83",
          "mode: 84",
          "mode: 85",
          "mode: 86",
          "mode: 87",
          "mode: 88",
          "mode: 89",
          "mode: 90"
         ],
         "type": "scatter",
         "uid": "f7d76582-cd31-11e8-98a8-4a0028d94b01",
         "x": [
          17.225,
          14.624,
          12.278,
          0.22,
          0.164,
          0.173,
          42.334,
          64.304,
          67.369,
          71.522,
          81.863,
          88.976,
          94.041,
          112.2,
          129.037,
          130.839,
          156.582,
          183.379,
          191.83,
          205.72,
          218.262,
          237.178,
          252.774,
          289.594,
          312.045,
          323.875,
          416.892,
          423.629,
          497.665,
          703.669,
          777.555,
          782.693,
          829.758,
          852.367,
          912.391,
          912.584,
          1008.449,
          1014.237,
          1056.656,
          1069.699,
          1083.615,
          1088.216,
          1110.205,
          1111.906,
          1247.253,
          1251.25,
          1262.754,
          1275.447,
          1319.003,
          1330.084,
          1354.946,
          1377.507,
          1390.795,
          1394.172,
          1414.57,
          1427.77,
          1432.104,
          1435.719,
          1477.989,
          1478.424,
          1492.133,
          1493.942,
          1512.218,
          1539.574,
          1578.167,
          1601.663,
          1653.445,
          1671.886,
          1682.615,
          1717.75,
          1727.544,
          1772.019,
          2580.244,
          2662.194,
          2883.262,
          2933.817,
          2946.158,
          3083.966,
          3092.724,
          3093.822,
          3136.304,
          3151.42,
          3191.396,
          3193.955,
          3198.944,
          3204.149,
          3215.453,
          3223.888,
          3559.322,
          3572.916
         ],
         "y": [
          0.006406,
          0.003209,
          0.02262,
          1e-06,
          0,
          0,
          0.255098,
          0.090198,
          0.075436,
          0.11039,
          0.062198,
          0.489836,
          0.165981,
          0.312225,
          0.104979,
          0.453948,
          0.098705,
          0.258225,
          0.969637,
          0.979962,
          2.769579,
          0.593297,
          0.834373,
          1.980516,
          1.9675,
          2.379513,
          0.767165,
          2.259236,
          0.135561,
          0.984388,
          2.27408,
          0.575207,
          0.175382,
          0.586371,
          0.010894,
          0.065763,
          0.846727,
          0.262959,
          0.576319,
          0.264918,
          0.040541,
          0.060715,
          0.678311,
          0.122581,
          1.58062,
          0.164266,
          1.121914,
          0.30643,
          24.002106,
          2.466579,
          0.739522,
          0.525319,
          0.043931,
          0.183655,
          0.605849,
          0.89136,
          0.297507,
          0.42126,
          0.098794,
          0.174175,
          0.155759,
          0.144002,
          0.296998,
          3.525519,
          0.119672,
          2.630681,
          0.21321,
          8.10332,
          3.173795,
          12.385812,
          30.592975,
          5.028984,
          32.850542,
          60.166343,
          40.503377,
          7.356314,
          5.186307,
          28.821713,
          0.708751,
          1.737533,
          0.32355,
          0.206439,
          0.337197,
          0.133759,
          0.579403,
          0.341268,
          0.422809,
          0.310534,
          2.817111,
          2.298441
         ]
        }
       ],
       "layout": {}
      },
      "text/html": [
       "<div id=\"4118f1ef-5834-412a-b81b-d07f788ebd4b\" style=\"height: 525px; width: 100%;\" class=\"plotly-graph-div\"></div><script type=\"text/javascript\">require([\"plotly\"], function(Plotly) { window.PLOTLYENV=window.PLOTLYENV || {};window.PLOTLYENV.BASE_URL=\"https://plot.ly\";Plotly.newPlot(\"4118f1ef-5834-412a-b81b-d07f788ebd4b\", [{\"line\": {\"color\": \"red\"}, \"mode\": \"lines+markers\", \"text\": [\"mode: 1\", \"mode: 2\", \"mode: 3\", \"mode: 4\", \"mode: 5\", \"mode: 6\", \"mode: 7\", \"mode: 8\", \"mode: 9\", \"mode: 10\", \"mode: 11\", \"mode: 12\", \"mode: 13\", \"mode: 14\", \"mode: 15\", \"mode: 16\", \"mode: 17\", \"mode: 18\", \"mode: 19\", \"mode: 20\", \"mode: 21\", \"mode: 22\", \"mode: 23\", \"mode: 24\", \"mode: 25\", \"mode: 26\", \"mode: 27\", \"mode: 28\", \"mode: 29\", \"mode: 30\", \"mode: 31\", \"mode: 32\", \"mode: 33\", \"mode: 34\", \"mode: 35\", \"mode: 36\", \"mode: 37\", \"mode: 38\", \"mode: 39\", \"mode: 40\", \"mode: 41\", \"mode: 42\", \"mode: 43\", \"mode: 44\", \"mode: 45\", \"mode: 46\", \"mode: 47\", \"mode: 48\", \"mode: 49\", \"mode: 50\", \"mode: 51\", \"mode: 52\", \"mode: 53\", \"mode: 54\", \"mode: 55\", \"mode: 56\", \"mode: 57\", \"mode: 58\", \"mode: 59\", \"mode: 60\", \"mode: 61\", \"mode: 62\", \"mode: 63\", \"mode: 64\", \"mode: 65\", \"mode: 66\", \"mode: 67\", \"mode: 68\", \"mode: 69\", \"mode: 70\", \"mode: 71\", \"mode: 72\", \"mode: 73\", \"mode: 74\", \"mode: 75\", \"mode: 76\", \"mode: 77\", \"mode: 78\", \"mode: 79\", \"mode: 80\", \"mode: 81\", \"mode: 82\", \"mode: 83\", \"mode: 84\", \"mode: 85\", \"mode: 86\", \"mode: 87\", \"mode: 88\", \"mode: 89\", \"mode: 90\"], \"x\": [17.225, 14.624, 12.278, 0.22, 0.164, 0.173, 42.334, 64.304, 67.369, 71.522, 81.863, 88.976, 94.041, 112.2, 129.037, 130.839, 156.582, 183.379, 191.83, 205.72, 218.262, 237.178, 252.774, 289.594, 312.045, 323.875, 416.892, 423.629, 497.665, 703.669, 777.555, 782.693, 829.758, 852.367, 912.391, 912.584, 1008.449, 1014.237, 1056.656, 1069.699, 1083.615, 1088.216, 1110.205, 1111.906, 1247.253, 1251.25, 1262.754, 1275.447, 1319.003, 1330.084, 1354.946, 1377.507, 1390.795, 1394.172, 1414.57, 1427.77, 1432.104, 1435.719, 1477.989, 1478.424, 1492.133, 1493.942, 1512.218, 1539.574, 1578.167, 1601.663, 1653.445, 1671.886, 1682.615, 1717.75, 1727.544, 1772.019, 2580.244, 2662.194, 2883.262, 2933.817, 2946.158, 3083.966, 3092.724, 3093.822, 3136.304, 3151.42, 3191.396, 3193.955, 3198.944, 3204.149, 3215.453, 3223.888, 3559.322, 3572.916], \"y\": [0.006406, 0.003209, 0.02262, 1e-06, 0.0, 0.0, 0.255098, 0.090198, 0.075436, 0.11039, 0.062198, 0.489836, 0.165981, 0.312225, 0.104979, 0.453948, 0.098705, 0.258225, 0.969637, 0.979962, 2.769579, 0.593297, 0.834373, 1.980516, 1.9675, 2.379513, 0.767165, 2.259236, 0.135561, 0.984388, 2.27408, 0.575207, 0.175382, 0.586371, 0.010894, 0.065763, 0.846727, 0.262959, 0.576319, 0.264918, 0.040541, 0.060715, 0.678311, 0.122581, 1.58062, 0.164266, 1.121914, 0.30643, 24.002106, 2.466579, 0.739522, 0.525319, 0.043931, 0.183655, 0.605849, 0.89136, 0.297507, 0.42126, 0.098794, 0.174175, 0.155759, 0.144002, 0.296998, 3.525519, 0.119672, 2.630681, 0.21321, 8.10332, 3.173795, 12.385812, 30.592975, 5.028984, 32.850542, 60.166343, 40.503377, 7.356314, 5.186307, 28.821713, 0.708751, 1.737533, 0.32355, 0.206439, 0.337197, 0.133759, 0.579403, 0.341268, 0.422809, 0.310534, 2.817111, 2.298441], \"type\": \"scatter\", \"uid\": \"f8438462-cd31-11e8-8f41-4a0028d94b01\"}], {}, {\"showLink\": true, \"linkText\": \"Export to plot.ly\"})});</script>"
      ],
      "text/vnd.plotly.v1+html": [
       "<div id=\"4118f1ef-5834-412a-b81b-d07f788ebd4b\" style=\"height: 525px; width: 100%;\" class=\"plotly-graph-div\"></div><script type=\"text/javascript\">require([\"plotly\"], function(Plotly) { window.PLOTLYENV=window.PLOTLYENV || {};window.PLOTLYENV.BASE_URL=\"https://plot.ly\";Plotly.newPlot(\"4118f1ef-5834-412a-b81b-d07f788ebd4b\", [{\"line\": {\"color\": \"red\"}, \"mode\": \"lines+markers\", \"text\": [\"mode: 1\", \"mode: 2\", \"mode: 3\", \"mode: 4\", \"mode: 5\", \"mode: 6\", \"mode: 7\", \"mode: 8\", \"mode: 9\", \"mode: 10\", \"mode: 11\", \"mode: 12\", \"mode: 13\", \"mode: 14\", \"mode: 15\", \"mode: 16\", \"mode: 17\", \"mode: 18\", \"mode: 19\", \"mode: 20\", \"mode: 21\", \"mode: 22\", \"mode: 23\", \"mode: 24\", \"mode: 25\", \"mode: 26\", \"mode: 27\", \"mode: 28\", \"mode: 29\", \"mode: 30\", \"mode: 31\", \"mode: 32\", \"mode: 33\", \"mode: 34\", \"mode: 35\", \"mode: 36\", \"mode: 37\", \"mode: 38\", \"mode: 39\", \"mode: 40\", \"mode: 41\", \"mode: 42\", \"mode: 43\", \"mode: 44\", \"mode: 45\", \"mode: 46\", \"mode: 47\", \"mode: 48\", \"mode: 49\", \"mode: 50\", \"mode: 51\", \"mode: 52\", \"mode: 53\", \"mode: 54\", \"mode: 55\", \"mode: 56\", \"mode: 57\", \"mode: 58\", \"mode: 59\", \"mode: 60\", \"mode: 61\", \"mode: 62\", \"mode: 63\", \"mode: 64\", \"mode: 65\", \"mode: 66\", \"mode: 67\", \"mode: 68\", \"mode: 69\", \"mode: 70\", \"mode: 71\", \"mode: 72\", \"mode: 73\", \"mode: 74\", \"mode: 75\", \"mode: 76\", \"mode: 77\", \"mode: 78\", \"mode: 79\", \"mode: 80\", \"mode: 81\", \"mode: 82\", \"mode: 83\", \"mode: 84\", \"mode: 85\", \"mode: 86\", \"mode: 87\", \"mode: 88\", \"mode: 89\", \"mode: 90\"], \"x\": [17.225, 14.624, 12.278, 0.22, 0.164, 0.173, 42.334, 64.304, 67.369, 71.522, 81.863, 88.976, 94.041, 112.2, 129.037, 130.839, 156.582, 183.379, 191.83, 205.72, 218.262, 237.178, 252.774, 289.594, 312.045, 323.875, 416.892, 423.629, 497.665, 703.669, 777.555, 782.693, 829.758, 852.367, 912.391, 912.584, 1008.449, 1014.237, 1056.656, 1069.699, 1083.615, 1088.216, 1110.205, 1111.906, 1247.253, 1251.25, 1262.754, 1275.447, 1319.003, 1330.084, 1354.946, 1377.507, 1390.795, 1394.172, 1414.57, 1427.77, 1432.104, 1435.719, 1477.989, 1478.424, 1492.133, 1493.942, 1512.218, 1539.574, 1578.167, 1601.663, 1653.445, 1671.886, 1682.615, 1717.75, 1727.544, 1772.019, 2580.244, 2662.194, 2883.262, 2933.817, 2946.158, 3083.966, 3092.724, 3093.822, 3136.304, 3151.42, 3191.396, 3193.955, 3198.944, 3204.149, 3215.453, 3223.888, 3559.322, 3572.916], \"y\": [0.006406, 0.003209, 0.02262, 1e-06, 0.0, 0.0, 0.255098, 0.090198, 0.075436, 0.11039, 0.062198, 0.489836, 0.165981, 0.312225, 0.104979, 0.453948, 0.098705, 0.258225, 0.969637, 0.979962, 2.769579, 0.593297, 0.834373, 1.980516, 1.9675, 2.379513, 0.767165, 2.259236, 0.135561, 0.984388, 2.27408, 0.575207, 0.175382, 0.586371, 0.010894, 0.065763, 0.846727, 0.262959, 0.576319, 0.264918, 0.040541, 0.060715, 0.678311, 0.122581, 1.58062, 0.164266, 1.121914, 0.30643, 24.002106, 2.466579, 0.739522, 0.525319, 0.043931, 0.183655, 0.605849, 0.89136, 0.297507, 0.42126, 0.098794, 0.174175, 0.155759, 0.144002, 0.296998, 3.525519, 0.119672, 2.630681, 0.21321, 8.10332, 3.173795, 12.385812, 30.592975, 5.028984, 32.850542, 60.166343, 40.503377, 7.356314, 5.186307, 28.821713, 0.708751, 1.737533, 0.32355, 0.206439, 0.337197, 0.133759, 0.579403, 0.341268, 0.422809, 0.310534, 2.817111, 2.298441], \"type\": \"scatter\", \"uid\": \"f8438462-cd31-11e8-8f41-4a0028d94b01\"}], {}, {\"showLink\": true, \"linkText\": \"Export to plot.ly\"})});</script>"
      ]
     },
     "metadata": {},
     "output_type": "display_data"
    }
   ],
   "source": [
    "trace = go.Scatter(\n",
    "    x = np.array(x),\n",
    "    y = np.array(y),\n",
    "    mode = \"lines+markers\",\n",
    "    line = dict(color = \"red\"),\n",
    "    text = mode\n",
    ")\n",
    "\n",
    "data = [trace]\n",
    "iplot(data)"
   ]
  },
  {
   "cell_type": "markdown",
   "metadata": {},
   "source": [
    "## This is how the atoms dance ~-~ ^.^ ~-~"
   ]
  },
  {
   "cell_type": "code",
   "execution_count": 12,
   "metadata": {},
   "outputs": [
    {
     "data": {
      "application/vnd.jupyter.widget-view+json": {
       "model_id": "a577da0bb5b146069f9f8e8e1f8a36b9",
       "version_major": 2,
       "version_minor": 0
      },
      "text/plain": [
       "interactive(children=(IntSlider(value=1, description='mode', max=114, min=1), Output()), _dom_classes=('widget…"
      ]
     },
     "metadata": {},
     "output_type": "display_data"
    },
    {
     "data": {
      "text/plain": [
       "<function __main__.vibrate(mode)>"
      ]
     },
     "execution_count": 12,
     "metadata": {},
     "output_type": "execute_result"
    }
   ],
   "source": [
    "interact(vibrate, mode = widgets.IntSlider(min=1,max=114,step=1,value=1))"
   ]
  },
  {
   "cell_type": "code",
   "execution_count": null,
   "metadata": {},
   "outputs": [],
   "source": []
  }
 ],
 "metadata": {
  "kernelspec": {
   "display_name": "Python 3",
   "language": "python",
   "name": "python3"
  },
  "language_info": {
   "codemirror_mode": {
    "name": "ipython",
    "version": 3
   },
   "file_extension": ".py",
   "mimetype": "text/x-python",
   "name": "python",
   "nbconvert_exporter": "python",
   "pygments_lexer": "ipython3",
   "version": "3.6.5"
  }
 },
 "nbformat": 4,
 "nbformat_minor": 2
}
